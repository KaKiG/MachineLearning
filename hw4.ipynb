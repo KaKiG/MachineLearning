{
 "cells": [
  {
   "cell_type": "code",
   "execution_count": 3,
   "metadata": {},
   "outputs": [],
   "source": [
    "import numpy as np\n",
    "from tqdm import tqdm"
   ]
  },
  {
   "cell_type": "markdown",
   "metadata": {},
   "source": [
    "# Load and PreProcess Data"
   ]
  },
  {
   "cell_type": "code",
   "execution_count": 4,
   "metadata": {},
   "outputs": [],
   "source": [
    "with open (\"data/genes.txt\", \"r\") as file:\n",
    "    genes = file.readlines()"
   ]
  },
  {
   "cell_type": "code",
   "execution_count": 5,
   "metadata": {},
   "outputs": [],
   "source": [
    "expr = np.loadtxt(\"data/model.txt\")"
   ]
  },
  {
   "cell_type": "code",
   "execution_count": 6,
   "metadata": {},
   "outputs": [
    {
     "name": "stderr",
     "output_type": "stream",
     "text": [
      "100%|███████████████████████████████████████████████████████████████████████████████| 17/17 [00:00<00:00, 17017.46it/s]\n"
     ]
    }
   ],
   "source": [
    "geneDic = {}\n",
    "for i in tqdm(range(len(genes))):\n",
    "    geneDic[genes[i][:-1]] = i"
   ]
  },
  {
   "cell_type": "markdown",
   "metadata": {},
   "source": [
    "# Problem 1"
   ]
  },
  {
   "cell_type": "code",
   "execution_count": 7,
   "metadata": {},
   "outputs": [],
   "source": [
    "# order is NCAPG FOS FOXA1 ESR1\n",
    "order = ['NCAPG', 'FOS', 'FOXA1', 'ESR1']"
   ]
  },
  {
   "cell_type": "code",
   "execution_count": 8,
   "metadata": {},
   "outputs": [],
   "source": [
    "orderIndex = []\n",
    "for i in range(len(order)):\n",
    "    orderIndex.append(geneDic[order[i]])"
   ]
  },
  {
   "cell_type": "code",
   "execution_count": 9,
   "metadata": {},
   "outputs": [
    {
     "data": {
      "text/plain": [
       "[3, 6, 5, 8]"
      ]
     },
     "execution_count": 9,
     "metadata": {},
     "output_type": "execute_result"
    }
   ],
   "source": [
    "orderIndex"
   ]
  },
  {
   "cell_type": "code",
   "execution_count": 204,
   "metadata": {},
   "outputs": [],
   "source": [
    "n_samples = 1000000\n",
    "samples = np.zeros((n_samples, 4))"
   ]
  },
  {
   "cell_type": "code",
   "execution_count": 208,
   "metadata": {},
   "outputs": [],
   "source": [
    "for i in range(4):\n",
    "    if i != 0:\n",
    "        prev_mean = np.mean(samples[:,i-1])\n",
    "    for j in range(n_samples):\n",
    "        if i == 0:\n",
    "            samples[j,i] = np.random.normal(loc = expr[orderIndex[i], 17], scale = np.sqrt(expr[orderIndex[i], 18]))\n",
    "        else:\n",
    "            samples[j,i] = np.random.normal(loc = expr[orderIndex[i], 17]+expr[orderIndex[i], orderIndex[i-1]]*prev_mean, scale = np.sqrt(expr[orderIndex[i], 18]))"
   ]
  },
  {
   "cell_type": "code",
   "execution_count": 200,
   "metadata": {},
   "outputs": [],
   "source": [
    "mean, variance = np.mean(samples[:,3]), np.var(samples[:,3])"
   ]
  },
  {
   "cell_type": "code",
   "execution_count": 201,
   "metadata": {},
   "outputs": [
    {
     "name": "stdout",
     "output_type": "stream",
     "text": [
      "-190.7883495046886\n",
      "0.1335864076621784\n"
     ]
    }
   ],
   "source": [
    "print(mean)\n",
    "print(variance)"
   ]
  },
  {
   "cell_type": "markdown",
   "metadata": {},
   "source": [
    "# Problem 2"
   ]
  },
  {
   "cell_type": "code",
   "execution_count": 189,
   "metadata": {},
   "outputs": [],
   "source": [
    "def LinearRegression(X_train, y_train):\n",
    "#     mean centering the data\n",
    "    X = X_train-np.mean(X_train,axis = 0)\n",
    "    y = y_train-np.mean(y_train,axis = 0)\n",
    "\n",
    "    # based on the closed form expression, compute the result directly\n",
    "    theta = np.linalg.inv(X.T.dot(X)).dot(X.T).dot(y)\n",
    "\n",
    "    return theta"
   ]
  },
  {
   "cell_type": "code",
   "execution_count": 217,
   "metadata": {},
   "outputs": [],
   "source": [
    "def LR(X_train, y_train, beta):\n",
    "    X = X_train\n",
    "    y = y_train\n",
    "    theta = np.linalg.inv(X.T.dot(X)).dot(X.T).dot(y-beta)\n",
    "\n",
    "    return theta"
   ]
  },
  {
   "cell_type": "code",
   "execution_count": 218,
   "metadata": {},
   "outputs": [],
   "source": [
    "beta =[]\n",
    "for i in range(4):\n",
    "    y_train = samples[:,i].reshape(-1,1)\n",
    "    if i == 0:\n",
    "        X_train = samples[:,i].reshape(-1,1)\n",
    "    else:\n",
    "        X_train = samples[:,i-1].reshape(-1,1)\n",
    "    beta_i = LR(X_train, y_train, expr[orderIndex[i], 17])\n",
    "    beta.append(beta_i)"
   ]
  },
  {
   "cell_type": "code",
   "execution_count": 219,
   "metadata": {},
   "outputs": [
    {
     "data": {
      "text/plain": [
       "[array([[0.00348752]]),\n",
       " array([[2.69569476]]),\n",
       " array([[1.89967761]]),\n",
       " array([[-1.79973344]])]"
      ]
     },
     "execution_count": 219,
     "metadata": {},
     "output_type": "execute_result"
    }
   ],
   "source": [
    "beta"
   ]
  },
  {
   "cell_type": "code",
   "execution_count": null,
   "metadata": {},
   "outputs": [],
   "source": []
  }
 ],
 "metadata": {
  "kernelspec": {
   "display_name": "Python 3",
   "language": "python",
   "name": "python3"
  },
  "language_info": {
   "codemirror_mode": {
    "name": "ipython",
    "version": 3
   },
   "file_extension": ".py",
   "mimetype": "text/x-python",
   "name": "python",
   "nbconvert_exporter": "python",
   "pygments_lexer": "ipython3",
   "version": "3.7.6"
  }
 },
 "nbformat": 4,
 "nbformat_minor": 4
}
